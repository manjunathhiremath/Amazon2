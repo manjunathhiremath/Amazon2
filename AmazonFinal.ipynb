{
 "cells": [
  {
   "cell_type": "code",
   "execution_count": 1,
   "metadata": {},
   "outputs": [
    {
     "name": "stderr",
     "output_type": "stream",
     "text": [
      "C:\\Users\\Manju\\Anaconda3\\lib\\site-packages\\sklearn\\cross_validation.py:41: DeprecationWarning: This module was deprecated in version 0.18 in favor of the model_selection module into which all the refactored classes and functions are moved. Also note that the interface of the new CV iterators are different from that of this module. This module will be removed in 0.20.\n",
      "  \"This module will be removed in 0.20.\", DeprecationWarning)\n"
     ]
    }
   ],
   "source": [
    "%matplotlib inline\n",
    "\n",
    "import warnings\n",
    "warnings.filterwarnings('ignore')\n",
    "import sqlite3\n",
    "import pandas as pd\n",
    "import numpy as np\n",
    "import nltk\n",
    "import string\n",
    "import matplotlib.pyplot as plt\n",
    "import numpy as np\n",
    "\n",
    "from sklearn.feature_extraction.text import TfidfTransformer\n",
    "from sklearn.feature_extraction.text import CountVectorizer\n",
    "from sklearn.cross_validation import train_test_split\n",
    "from sklearn.metrics import confusion_matrix\n",
    "from sklearn import metrics\n",
    "from sklearn.metrics import roc_curve, auc\n",
    "from nltk.stem.porter import PorterStemmer\n",
    "\n",
    "con = sqlite3.connect(r'D:\\Data science\\Data sets\\amazon-fine-food-reviews\\database.sqlite')"
   ]
  },
  {
   "cell_type": "code",
   "execution_count": 2,
   "metadata": {
    "collapsed": true
   },
   "outputs": [],
   "source": [
    "#1.selecting only Score and summary columns from the table except score 3\n",
    "# because we are seperating the data which has score 4 and 5 as positive and 1 and 2 as positive\n",
    "\n",
    "messages = pd.read_sql_query(\"\"\"\n",
    "SELECT Score, Summary\n",
    "FROM Reviews\n",
    "WHERE Score != 3\n",
    "\"\"\", con)\n",
    "\n",
    "\n",
    "def partition(x):\n",
    "    if x < 3:\n",
    "        return 'negative'\n",
    "    return 'positive'\n",
    "\n",
    "Score = messages['Score']\n",
    "Score = Score.map(partition)\n",
    "Summary = messages['Summary']\n",
    "X_train, X_test, y_train, y_test = train_test_split(Summary, Score, test_size=0.2, random_state=42)"
   ]
  },
  {
   "cell_type": "code",
   "execution_count": 3,
   "metadata": {
    "collapsed": true
   },
   "outputs": [],
   "source": [
    "stemmer = PorterStemmer()\n",
    "from nltk.corpus import stopwords\n",
    "\n",
    "def stem_tokens(tokens, stemmer):\n",
    "    stemmed = []\n",
    "    for item in tokens:\n",
    "        stemmed.append(stemmer.stem(item))\n",
    "    return stemmed\n",
    "\n",
    "def tokenize(text):\n",
    "    tokens = nltk.word_tokenize(text)\n",
    "    #tokens = [word for word in tokens if word not in stopwords.words('english')]\n",
    "    stems = stem_tokens(tokens, stemmer)\n",
    "    return ' '.join(stems)\n",
    "\n",
    "intab = string.punctuation\n",
    "outtab = \"                                \"\n",
    "trantab = str.maketrans(intab, outtab)\n",
    "\n",
    "#--- Training set\n",
    "\n",
    "corpus = []\n",
    "for text in X_train:\n",
    "    text = text.lower()\n",
    "    text = text.translate(trantab)\n",
    "    text=tokenize(text)\n",
    "    corpus.append(text)\n",
    "        \n",
    "count_vect = CountVectorizer()\n",
    "X_train_counts = count_vect.fit_transform(corpus)        \n",
    "        \n",
    "tfidf_transformer = TfidfTransformer()\n",
    "X_train_tfidf = tfidf_transformer.fit_transform(X_train_counts)\n",
    "\n",
    "#--- Test set\n",
    "\n",
    "test_set = []\n",
    "for text in X_test:\n",
    "    text = text.lower()\n",
    "    text = text.translate(trantab)\n",
    "    text=tokenize(text)\n",
    "    test_set.append(text)\n",
    "\n",
    "X_new_counts = count_vect.transform(test_set)\n",
    "X_test_tfidf = tfidf_transformer.transform(X_new_counts)\n",
    "\n",
    "#from pandas import *\n",
    "#df = DataFrame({'Before': X_train, 'After': corpus})\n",
    "#print(df.head(20))\n",
    "\n",
    "prediction = dict()"
   ]
  },
  {
   "cell_type": "markdown",
   "metadata": {},
   "source": [
    "<b>3.a  Multinomial Naive bayes </b>"
   ]
  },
  {
   "cell_type": "code",
   "execution_count": 4,
   "metadata": {
    "collapsed": true
   },
   "outputs": [],
   "source": [
    "from sklearn.naive_bayes import MultinomialNB\n",
    "model = MultinomialNB().fit(X_train_tfidf, y_train)\n",
    "prediction['Multinomial'] = model.predict(X_test_tfidf)\n",
    "accuracyMultinomial = metrics.accuracy_score(prediction['Multinomial'],y_test)"
   ]
  },
  {
   "cell_type": "code",
   "execution_count": 5,
   "metadata": {},
   "outputs": [
    {
     "name": "stdout",
     "output_type": "stream",
     "text": [
      "Accuracy of MultinomialNB is: 0.903673345188 \n",
      "\n",
      "             precision    recall  f1-score   support\n",
      "\n",
      "   positive       0.86      0.45      0.59     16379\n",
      "   negative       0.91      0.99      0.95     88784\n",
      "\n",
      "avg / total       0.90      0.90      0.89    105163\n",
      "\n"
     ]
    }
   ],
   "source": [
    "print(\"Accuracy of MultinomialNB is:\",accuracyMultinomial,'\\n')\n",
    "print(metrics.classification_report(y_test, prediction['Multinomial'], target_names = [\"positive\", \"negative\"]))"
   ]
  },
  {
   "cell_type": "markdown",
   "metadata": {},
   "source": [
    "<b>Precision:</b> It is the ratio tp / (tp + fp) where tp is the number of true positives and fp the number of false positives. The precision is intuitively the ability of the classifier not to label as positive a sample that is negative.\n",
    "\n",
    "<b>Recall:</b> It is the ratio tp / (tp + fn) where tp is the number of true positives and fn the number of false negatives. The recall is intuitively the ability of the classifier to find all the positive samples.\n",
    "\n",
    "<b>F1-score:</b> It can be interpreted as a weighted harmonic mean of the precision and recall, where an F-beta score reaches its best value at 1 and worst score at 0."
   ]
  },
  {
   "cell_type": "code",
   "execution_count": 6,
   "metadata": {},
   "outputs": [
    {
     "name": "stdout",
     "output_type": "stream",
     "text": [
      "[[ 7406  8973]\n",
      " [ 1157 87627]]\n"
     ]
    },
    {
     "data": {
      "image/png": "[encoded data removed]",
      "text/plain": [
       "<IPython.core.display.Image object>"
      ]
     },
     "execution_count": 6,
     "metadata": {},
     "output_type": "execute_result"
    }
   ],
   "source": [
    "from IPython.display import Image\n",
    "print(metrics.confusion_matrix(y_test,prediction['Multinomial']))\n",
    "Image(filename='D:\\Data science\\Images\\CMMultinomialNB.png')"
   ]
  },
  {
   "cell_type": "markdown",
   "metadata": {},
   "source": [
    "<h4>Basic Terminologies</h4>\n",
    "\n",
    "<b>True Positives(TP):</b>we correctly predicted that they do belongs to positive class.In this case we predicted 87627 times correctly as positive reviews \n",
    "\n",
    "<b>True Negatives(TN):</b>We correctly predicted that they belongs to negative class.In this case we predicted 7406 times correctly as negative reviews \n",
    "\n",
    "<b>False Positives(FP):</b>We incorrectly predicted that they do belongs to positive class(a “Type I error”)In this case we predicted 1157 times in correctly as positive reviews \n",
    "\n",
    "<b>False Negative(FN):</b>We incorrectly predicted that they do belongs to negative class.(a”Type II error”)In this case we predicted 8973 times in correctly as negative reviews "
   ]
  },
  {
   "cell_type": "code",
   "execution_count": 7,
   "metadata": {
    "collapsed": true
   },
   "outputs": [],
   "source": [
    "#Bernoulli Naive bayes with Accuracy,classification report,and confusion matrix"
   ]
  },
  {
   "cell_type": "code",
   "execution_count": 8,
   "metadata": {},
   "outputs": [
    {
     "name": "stdout",
     "output_type": "stream",
     "text": [
      "Accuracy of BernoulliNB is: 0.907495982427 \n",
      "\n",
      "             precision    recall  f1-score   support\n",
      "\n",
      "   positive       0.73      0.65      0.69     16379\n",
      "   negative       0.94      0.96      0.95     88784\n",
      "\n",
      "avg / total       0.90      0.91      0.91    105163\n",
      "\n",
      "[[10579  5800]\n",
      " [ 3928 84856]]\n"
     ]
    },
    {
     "data": {
      "image/png": "[encoded data removed]",
      "text/plain": [
       "<IPython.core.display.Image object>"
      ]
     },
     "execution_count": 8,
     "metadata": {},
     "output_type": "execute_result"
    }
   ],
   "source": [
    "from sklearn.naive_bayes import BernoulliNB\n",
    "model = BernoulliNB().fit(X_train_tfidf, y_train)\n",
    "prediction['Bernoulli'] = model.predict(X_test_tfidf)\n",
    "accuracyBernoulli = metrics.accuracy_score(prediction['Bernoulli'],y_test)\n",
    "\n",
    "print(\"Accuracy of BernoulliNB is:\",accuracyBernoulli,'\\n')\n",
    "print(metrics.classification_report(y_test, prediction['Bernoulli'], target_names = [\"positive\", \"negative\"]))\n",
    "\n",
    "print(metrics.confusion_matrix(y_test,prediction['Bernoulli']))\n",
    "Image(filename='D:\\Data science\\Images\\CMBernouliNB.png')"
   ]
  },
  {
   "cell_type": "markdown",
   "metadata": {},
   "source": [
    "<b>True Positives(TP):</b>In this case we predicted 84856 times correctly as positive reviews \n",
    "\n",
    "<b>True Negatives(TN):</b>In this case we predicted 10579 times correctly as negative reviews \n",
    "\n",
    "<b>False Positives(FP):</b>In this case we predicted 3928 times in correctly as positive reviews \n",
    "\n",
    "<b>False Negative(FN):</b>In this case we predicted 5800 times in correctly as negative reviews "
   ]
  },
  {
   "cell_type": "markdown",
   "metadata": {},
   "source": [
    "<b>4 a. Use Logistic Regression sklearn function to classify the statements into +ve and -ve statements</b>"
   ]
  },
  {
   "cell_type": "code",
   "execution_count": 9,
   "metadata": {},
   "outputs": [
    {
     "name": "stdout",
     "output_type": "stream",
     "text": [
      "Accuracy for Logistic regresion without penalty: 0.924878521914\n",
      "             precision    recall  f1-score   support\n",
      "\n",
      "   positive       0.83      0.65      0.73     16379\n",
      "   negative       0.94      0.98      0.96     88784\n",
      "\n",
      "avg / total       0.92      0.92      0.92    105163\n",
      "\n",
      "[[10697  5682]\n",
      " [ 2218 86566]]\n"
     ]
    },
    {
     "data": {
      "image/png": "[encoded data removed]",
      "text/plain": [
       "<IPython.core.display.Image object>"
      ]
     },
     "execution_count": 9,
     "metadata": {},
     "output_type": "execute_result"
    }
   ],
   "source": [
    "#Logistic Regression without any penality \n",
    "from sklearn import linear_model\n",
    "logreg = linear_model.LogisticRegression()\n",
    "logreg.fit(X_train_tfidf, y_train)\n",
    "prediction['Logistic'] = logreg.predict(X_test_tfidf)\n",
    "accuracyLogistic1 = metrics.accuracy_score(prediction['Logistic'],y_test)\n",
    "\n",
    "print(\"Accuracy for Logistic regresion without penalty:\",accuracyLogistic1)\n",
    "print(metrics.classification_report(y_test, prediction['Logistic'], target_names = [\"positive\", \"negative\"]))\n",
    "print(metrics.confusion_matrix(y_test,prediction['Logistic']))\n",
    "Image(filename='D:\\Data science\\Images\\CMLogisticDefault.png')"
   ]
  },
  {
   "cell_type": "markdown",
   "metadata": {},
   "source": [
    "<font face=\"verdana\" color=\"green\" span style=\"font-weight:bold\">Observation :</font>\n",
    "\n",
    "<b>Accuracy          :</b> for logistic regression with defualt implemention of sk learn is 92.48%</p>\n",
    "\n",
    "<b>True Positives(TP):</b>In this case we predicted 84866 times correctly as positive reviews \n",
    "\n",
    "<b>True Negatives(TN):</b>In this case we predicted 10697 times correctly as negative reviews \n",
    "\n",
    "<b>False Positives(FP):</b>In this case we predicted 2218 times in correctly as positive reviews \n",
    "\n",
    "<b>False Negative(FN):</b>In this case we predicted 5682 times in correctly as negative reviews "
   ]
  },
  {
   "cell_type": "markdown",
   "metadata": {},
   "source": [
    "<b>4 b. Logistic regression with the use of L1 and L2 regularisers and do the grid search on c=1/λ</b>"
   ]
  },
  {
   "cell_type": "code",
   "execution_count": 10,
   "metadata": {},
   "outputs": [
    {
     "name": "stdout",
     "output_type": "stream",
     "text": [
      "Best score: 0.927353078918 Best estimator: LogisticRegression(C=8, class_weight=None, dual=False, fit_intercept=True,\n",
      "          intercept_scaling=1, max_iter=100, multi_class='ovr', n_jobs=1,\n",
      "          penalty='l2', random_state=None, solver='liblinear', tol=0.0001,\n",
      "          verbose=0, warm_start=False) best Params: {'C': 8}\n"
     ]
    }
   ],
   "source": [
    "#Logistic Regression with penality l2\n",
    "\n",
    "from sklearn.linear_model import LogisticRegression\n",
    "from sklearn.model_selection import GridSearchCV\n",
    "param_grid = {'C': [1,2,3,4,5,6,7,8,9,10] }\n",
    "LogisticL2 = GridSearchCV(LogisticRegression(penalty='l2'), param_grid,cv=10)\n",
    "LogisticL2.fit(X_train_tfidf,y_train)\n",
    "print(\"Best score:\",LogisticL2.best_score_,\"Best estimator:\",LogisticL2.best_estimator_,\"best Params:\",LogisticL2.best_params_)"
   ]
  },
  {
   "cell_type": "markdown",
   "metadata": {},
   "source": [
    "<font face=\"verdana\" color=\"green\" span style=\"font-weight:bold\">Results :</font>\n",
    "The above results show us that for c=8 the accuracy is found to be highest across all the c values ranging between 1 to 10. So by choosing that c and l2 regulariser we will find the confusion matrix,Precision,Recall and F1 score "
   ]
  },
  {
   "cell_type": "code",
   "execution_count": 11,
   "metadata": {},
   "outputs": [
    {
     "name": "stdout",
     "output_type": "stream",
     "text": [
      "Accuracy for Logistic regresion with penalty L2: 0.927522037218\n",
      "             precision    recall  f1-score   support\n",
      "\n",
      "   positive       0.82      0.69      0.75     16379\n",
      "   negative       0.94      0.97      0.96     88784\n",
      "\n",
      "avg / total       0.92      0.93      0.92    105163\n",
      "\n",
      "[[11236  5143]\n",
      " [ 2479 86305]]\n"
     ]
    },
    {
     "data": {
      "image/png": "[encoded data removed]",
      "text/plain": [
       "<IPython.core.display.Image object>"
      ]
     },
     "execution_count": 11,
     "metadata": {},
     "output_type": "execute_result"
    }
   ],
   "source": [
    "logregL2 = linear_model.LogisticRegression(penalty='l2',C=8)\n",
    "logregL2.fit(X_train_tfidf, y_train)\n",
    "prediction['LogisticL2'] = logregL2.predict(X_test_tfidf)\n",
    "accuracyLogisticL2 = metrics.accuracy_score(prediction['LogisticL2'],y_test)\n",
    "\n",
    "print(\"Accuracy for Logistic regresion with penalty L2:\",accuracyLogisticL2)\n",
    "print(metrics.classification_report(y_test, prediction['LogisticL2'], target_names = [\"positive\", \"negative\"]))\n",
    "print(metrics.confusion_matrix(y_test,prediction['LogisticL2']))\n",
    "Image(filename='D:\\Data science\\Images\\CMLogisticL2.png')"
   ]
  },
  {
   "cell_type": "code",
   "execution_count": 12,
   "metadata": {},
   "outputs": [
    {
     "name": "stdout",
     "output_type": "stream",
     "text": [
      "Best score: 0.927103465818 Best estimator: LogisticRegression(C=3, class_weight=None, dual=False, fit_intercept=True,\n",
      "          intercept_scaling=1, max_iter=100, multi_class='ovr', n_jobs=1,\n",
      "          penalty='l1', random_state=None, solver='liblinear', tol=0.0001,\n",
      "          verbose=0, warm_start=False) best Params: {'C': 3}\n"
     ]
    }
   ],
   "source": [
    "#Logistic Regression with penality l1\n",
    "from sklearn.linear_model import LogisticRegression\n",
    "from sklearn.model_selection import GridSearchCV\n",
    "param_grid = {'C': [1,2,3,4,5,6,7,8,9,10] }\n",
    "LogisticL1 = GridSearchCV(LogisticRegression(penalty='l1'), param_grid,cv=10)\n",
    "LogisticL1.fit(X_train_tfidf,y_train)\n",
    "print(\"Best score:\",LogisticL1.best_score_,\"Best estimator:\",LogisticL1.best_estimator_,\"best Params:\",LogisticL1.best_params_)"
   ]
  },
  {
   "cell_type": "markdown",
   "metadata": {},
   "source": [
    "<font face=\"verdana\" color=\"green\" span style=\"font-weight:bold\">Results :</font>\n",
    "The above results show us that for c=3 the accuracy is found to be highest across all the c values ranging between 1 to 10. So by choosing that c and l1 regulariser we will find the confusion matrix,Precision,Recall and F1 score "
   ]
  },
  {
   "cell_type": "code",
   "execution_count": 13,
   "metadata": {},
   "outputs": [
    {
     "name": "stdout",
     "output_type": "stream",
     "text": [
      "Accuracy for Logistic regresion with penalty L1: 0.927388910548\n",
      "             precision    recall  f1-score   support\n",
      "\n",
      "   positive       0.82      0.68      0.75     16379\n",
      "   negative       0.94      0.97      0.96     88784\n",
      "\n",
      "avg / total       0.92      0.93      0.92    105163\n",
      "\n",
      "[[11204  5175]\n",
      " [ 2461 86323]]\n"
     ]
    },
    {
     "data": {
      "image/png": "[encoded data removed]",
      "text/plain": [
       "<IPython.core.display.Image object>"
      ]
     },
     "execution_count": 13,
     "metadata": {},
     "output_type": "execute_result"
    }
   ],
   "source": [
    "logregL1 = linear_model.LogisticRegression(penalty='l1',C=3)\n",
    "logregL1.fit(X_train_tfidf, y_train)\n",
    "prediction['LogisticL1'] = logregL1.predict(X_test_tfidf)\n",
    "accuracyLogisticL1 = metrics.accuracy_score(prediction['LogisticL1'],y_test)\n",
    "\n",
    "print(\"Accuracy for Logistic regresion with penalty L1:\",accuracyLogisticL1)\n",
    "print(metrics.classification_report(y_test, prediction['LogisticL1'], target_names = [\"positive\", \"negative\"]))\n",
    "print(metrics.confusion_matrix(y_test,prediction['LogisticL1']))\n",
    "Image(filename='D:\\Data science\\Images\\CMLogisticL1.png')"
   ]
  },
  {
   "cell_type": "markdown",
   "metadata": {},
   "source": [
    "<font face=\"verdana\" color=\"green\" span style=\"font-weight:bold\">Observation :</font>\n",
    "<p>1.The grid search value of c for model with l2 penality is found to be 8 </p>\n",
    "<p>2.With c=8 the accuracy for logistic regression is 92.75 %</p>\n",
    "<p>3.The grid search value of c for model with l1 penality is found to be 3 </p>\n",
    "<p>4.With c=3 the accuracy for logistic regression is 92.73 %</p>\n",
    "<p>5.From above two c values and regularisers its found that c=8  and l2 regulariser gives us the highest accuracy.So we will use this c and l2 for feature imporatance for logistic regression </p>"
   ]
  },
  {
   "cell_type": "markdown",
   "metadata": {},
   "source": [
    "<b>4.c Feature importance for Logistic regresion </b>"
   ]
  },
  {
   "cell_type": "code",
   "execution_count": 31,
   "metadata": {},
   "outputs": [
    {
     "name": "stdout",
     "output_type": "stream",
     "text": [
      "[('delici', 5074), ('yummi', 3592), ('great product', 3038), ('yum', 2508), ('love it', 2174), ('great', 1929), ('excel', 1709), ('good stuff', 1586), ('great coffe', 1455), ('awesom', 1430), ('the best', 1337), ('great tast', 1296), ('amaz', 1044), ('veri good', 1037), ('tasti', 1004), ('disappoint', 958), ('great stuff', 895), ('excel product', 878), ('great tea', 859), ('wonder', 822), ('fantast', 734), ('tast great', 654), ('good', 649), ('great snack', 634), ('great flavor', 613)]\n"
     ]
    }
   ],
   "source": [
    "#Selecting top 100 words from the corpus list\n",
    "word_features = nltk.FreqDist(corpus)\n",
    "topwords = [fpair[0] for fpair in list(word_features.most_common(100))]\n",
    "print (word_features.most_common(25))"
   ]
  },
  {
   "cell_type": "code",
   "execution_count": 32,
   "metadata": {},
   "outputs": [
    {
     "name": "stdout",
     "output_type": "stream",
     "text": [
      "Accuracy for Logistics of top 100 features: 0.859351673117\n",
      "             precision    recall  f1-score   support\n",
      "\n",
      "   positive       0.70      0.17      0.27     16379\n",
      "   negative       0.87      0.99      0.92     88784\n",
      "\n",
      "avg / total       0.84      0.86      0.82    105163\n",
      "\n",
      "[[ 2797 13582]\n",
      " [ 1209 87575]]\n"
     ]
    }
   ],
   "source": [
    "vec = CountVectorizer()\n",
    "c_fit = vec.fit_transform([' '.join(topwords)])\n",
    "\n",
    "tf_vec = TfidfTransformer()\n",
    "tf_fit = tf_vec.fit_transform(c_fit)\n",
    "\n",
    "ctr_features = vec.transform(X_train)\n",
    "tr_features = tf_vec.transform(ctr_features)\n",
    "\n",
    "cte_features = vec.transform(X_test)\n",
    "te_features = tf_vec.transform(cte_features)\n",
    "\n",
    "logregTop100 = linear_model.LogisticRegression(penalty='l2',C=8)\n",
    "logregTop100.fit(tr_features, y_train)\n",
    "prediction['LogisticTop100'] = logregTop100.predict(te_features)\n",
    "accuracyLogisticTop100 = metrics.accuracy_score(prediction['LogisticTop100'],y_test)\n",
    "\n",
    "print(\"Accuracy for Logistics of top 100 features:\",accuracyLogisticTop100)\n",
    "print(metrics.classification_report(y_test, prediction['LogisticTop100'], target_names = [\"positive\", \"negative\"]))\n",
    "print(metrics.confusion_matrix(y_test,prediction['LogisticTop100']))\n"
   ]
  },
  {
   "cell_type": "markdown",
   "metadata": {},
   "source": [
    "<b>By using Bi-grams</b>"
   ]
  },
  {
   "cell_type": "code",
   "execution_count": 14,
   "metadata": {},
   "outputs": [
    {
     "data": {
      "text/plain": [
       "0.95760866464440919"
      ]
     },
     "execution_count": 14,
     "metadata": {},
     "output_type": "execute_result"
    }
   ],
   "source": [
    "count_vect2 = CountVectorizer(ngram_range=(1,2))\n",
    "X_train_counts_bi_gram = count_vect2.fit_transform(corpus)\n",
    "\n",
    "tfidf_transformer = TfidfTransformer()\n",
    "X_train_tfidf_bi_grams = tfidf_transformer.fit_transform(X_train_counts_bi_gram)\n",
    "\n",
    "X_new_counts_bi_gram = count_vect2.transform(test_set)\n",
    "X_test_tfidf_bi_grams = tfidf_transformer.transform(X_new_counts_bi_gram)\n",
    "\n",
    "\n",
    "logreg4 = linear_model.LogisticRegression(C=8,penalty='l2')\n",
    "logreg4.fit(X_train_tfidf_bi_grams, y_train)\n",
    "\n",
    "prediction['LogisticBiGram'] = logreg4.predict(X_test_tfidf_bi_grams)\n",
    "accuracyLogisticBiGram = metrics.accuracy_score(prediction['LogisticBiGram'],y_test)\n",
    "\n",
    "accuracyLogisticBiGram"
   ]
  },
  {
   "cell_type": "markdown",
   "metadata": {},
   "source": [
    "<b>By using Tri-grams</b>"
   ]
  },
  {
   "cell_type": "code",
   "execution_count": 15,
   "metadata": {},
   "outputs": [
    {
     "data": {
      "text/plain": [
       "0.95954851040765288"
      ]
     },
     "execution_count": 15,
     "metadata": {},
     "output_type": "execute_result"
    }
   ],
   "source": [
    "count_vect3 = CountVectorizer(ngram_range=(1,3))\n",
    "X_train_counts_tri_gram = count_vect3.fit_transform(corpus)\n",
    "\n",
    "tfidf_transformer = TfidfTransformer()\n",
    "X_train_tfidf_tri_grams = tfidf_transformer.fit_transform(X_train_counts_tri_gram)\n",
    "\n",
    "X_new_counts_tri_gram = count_vect3.transform(test_set)\n",
    "X_test_tfidf_tri_grams = tfidf_transformer.transform(X_new_counts_tri_gram)\n",
    "\n",
    "\n",
    "logreg5 = linear_model.LogisticRegression(C=8,penalty='l2')\n",
    "logreg5.fit(X_train_tfidf_tri_grams, y_train)\n",
    "\n",
    "prediction['LogisticTriGram'] = logreg5.predict(X_test_tfidf_tri_grams)\n",
    "accuracyLogisticTriGram = metrics.accuracy_score(prediction['LogisticTriGram'],y_test)\n",
    "\n",
    "accuracyLogisticTriGram"
   ]
  },
  {
   "cell_type": "markdown",
   "metadata": {},
   "source": [
    "<font face=\"verdana\" color=\"green\" span style=\"font-weight:bold\">Observation :</font>\n",
    "<p>1.For Top 100 words feature importance the accuracy is 85.93 % </p>\n",
    "<p>2.For Bigram feature importance the accuracy is 95.76 % </p>\n",
    "<p>3.For Tri-gram feature importance the accuracy is 95.95 %</p>\n",
    "<p>4.So Tri-gram feature finally gives us the highest accuracy with c=8 and l2 reguliser </p>"
   ]
  },
  {
   "cell_type": "markdown",
   "metadata": {},
   "source": [
    "<b>5.a. Use linear SVM to classify the review into +ve and -ve review ( use the grid search engine on Alpha)</b>"
   ]
  },
  {
   "cell_type": "code",
   "execution_count": 16,
   "metadata": {},
   "outputs": [
    {
     "name": "stdout",
     "output_type": "stream",
     "text": [
      "Best score: 0.92457880761 Best estimator: SGDClassifier(alpha=1e-05, average=False, class_weight=None, epsilon=0.1,\n",
      "       eta0=0.0, fit_intercept=True, l1_ratio=0.15,\n",
      "       learning_rate='optimal', loss='hinge', max_iter=5, n_iter=None,\n",
      "       n_jobs=1, penalty='l2', power_t=0.5, random_state=None,\n",
      "       shuffle=True, tol=None, verbose=0, warm_start=False) best Params: {'alpha': 1e-05}\n"
     ]
    }
   ],
   "source": [
    "from sklearn import linear_model\n",
    "from sklearn.linear_model import SGDClassifier\n",
    "from sklearn.model_selection import GridSearchCV\n",
    "\n",
    "param_grid = [{'alpha': [0.00000001,0.00001,0.0001]}]\n",
    "sgdLinear = GridSearchCV(SGDClassifier(), param_grid, cv=10)\n",
    "sgdLinear.fit(X_train_tfidf,y_train)\n",
    "print(\"Best score:\",sgdLinear.best_score_,\"Best estimator:\",sgdLinear.best_estimator_,\"best Params:\",sgdLinear.best_params_)"
   ]
  },
  {
   "cell_type": "markdown",
   "metadata": {},
   "source": [
    "<b>The loss function to be used. Defaults to ‘hinge’, which gives a linear SVM.\n",
    "WE are finding out grid search for alpha.With alpha = 0.00000001 has highest accuracy.So now find the Precision,Recall F1 score and Confusion matrix for SGD with linear SVM</b>"
   ]
  },
  {
   "cell_type": "code",
   "execution_count": 17,
   "metadata": {},
   "outputs": [
    {
     "name": "stdout",
     "output_type": "stream",
     "text": [
      "Accuracy for SGD with linear SVM: 0.906088643344\n",
      "             precision    recall  f1-score   support\n",
      "\n",
      "   positive       0.84      0.49      0.62     16379\n",
      "   negative       0.91      0.98      0.95     88784\n",
      "\n",
      "avg / total       0.90      0.91      0.90    105163\n",
      "\n",
      "[[ 8005  8374]\n",
      " [ 1502 87282]]\n"
     ]
    }
   ],
   "source": [
    "from IPython.display import Image\n",
    "SGDModel = linear_model.SGDClassifier()\n",
    "SGDModel.fit(X_train_tfidf, y_train)\n",
    "SGDClassifier(alpha=1e-05)\n",
    "prediction['SGDModel'] = SGDModel.predict(X_test_tfidf)\n",
    "accuracySGDLinear = metrics.accuracy_score(prediction['SGDModel'],y_test)\n",
    "print(\"Accuracy for SGD with linear SVM:\",accuracySGDLinear)\n",
    "print(metrics.classification_report(y_test, prediction['SGDModel'], target_names = [\"positive\", \"negative\"]))\n",
    "print(metrics.confusion_matrix(y_test,prediction['SGDModel']))"
   ]
  },
  {
   "cell_type": "markdown",
   "metadata": {},
   "source": [
    "<b>5 b. Use the RBF kernel with SVM and predict the sentiment of a review. ( use the grid search engine on gamma and alpha)</b>"
   ]
  },
  {
   "cell_type": "code",
   "execution_count": 23,
   "metadata": {},
   "outputs": [
    {
     "name": "stdout",
     "output_type": "stream",
     "text": [
      "Accuracy for SVMRBFkernal is = 0.844251305117\n",
      "             precision    recall  f1-score   support\n",
      "\n",
      "   positive       0.00      0.00      0.00     16379\n",
      "   negative       0.84      1.00      0.92     88784\n",
      "\n",
      "avg / total       0.71      0.84      0.77    105163\n",
      "\n",
      "[[    0 16379]\n",
      " [    0 88784]]\n"
     ]
    }
   ],
   "source": [
    "from sklearn.kernel_approximation import RBFSampler\n",
    "\n",
    "rbf_feature = RBFSampler(gamma=1e-05, random_state=1)\n",
    "X_train_features = rbf_feature.fit_transform(X_train_tfidf)\n",
    "model = SGDClassifier().fit(X_train_features, y_train)\n",
    "X_test_features = rbf_feature.fit_transform(X_test_tfidf)\n",
    "prediction['SVM kernal'] = model.predict(X_test_features)\n",
    "accuracySVMKernal = metrics.accuracy_score(prediction['SVM kernal'],y_test)\n",
    "print(\"Accuracy for SVMRBFkernal is =\",accuracySVMKernal)\n",
    "print(metrics.classification_report(y_test, prediction['SVM kernal'], target_names = [\"positive\", \"negative\"]))\n",
    "print(metrics.confusion_matrix(y_test,prediction['SVM kernal']))"
   ]
  },
  {
   "cell_type": "markdown",
   "metadata": {},
   "source": [
    "<b>AUC curve for all models</b>"
   ]
  },
  {
   "cell_type": "code",
   "execution_count": 33,
   "metadata": {},
   "outputs": [
    {
     "data": {
      "image/png": "[encoded data removed]",
      "text/plain": [
       "<matplotlib.figure.Figure at 0x2b2a96a0>"
      ]
     },
     "metadata": {},
     "output_type": "display_data"
    }
   ],
   "source": [
    "def formatt(x):\n",
    "    if x == 'negative':\n",
    "        return 0\n",
    "    return 1\n",
    "vfunc = np.vectorize(formatt)\n",
    "\n",
    "cmp = 0\n",
    "colors = ['b', 'g', 'y', 'm', 'k','r','c','b','g','r']\n",
    "for model, predicted in prediction.items():\n",
    "    false_positive_rate, true_positive_rate, thresholds = roc_curve(y_test.map(formatt), vfunc(predicted))\n",
    "    roc_auc = auc(false_positive_rate, true_positive_rate)\n",
    "    plt.plot(false_positive_rate, true_positive_rate, colors[cmp], label='%s: AUC %0.2f'% (model,roc_auc))\n",
    "    cmp += 1\n",
    "\n",
    "plt.title('Classifiers comparaison with ROC')\n",
    "plt.legend(loc='lower right')\n",
    "plt.plot([0,1],[0,1],'r--')\n",
    "plt.xlim([-0.1,1.2])\n",
    "plt.ylim([-0.1,1.2])\n",
    "plt.ylabel('True Positive Rate')\n",
    "plt.xlabel('False Positive Rate')\n",
    "plt.show()"
   ]
  },
  {
   "cell_type": "code",
   "execution_count": null,
   "metadata": {
    "collapsed": true
   },
   "outputs": [],
   "source": []
  }
 ],
 "metadata": {
  "kernelspec": {
   "display_name": "Python 3",
   "language": "python",
   "name": "python3"
  },
  "language_info": {
   "codemirror_mode": {
    "name": "ipython",
    "version": 3
   },
   "file_extension": ".py",
   "mimetype": "text/x-python",
   "name": "python",
   "nbconvert_exporter": "python",
   "pygments_lexer": "ipython3",
   "version": "3.6.1"
  }
 },
 "nbformat": 4,
 "nbformat_minor": 2
}
